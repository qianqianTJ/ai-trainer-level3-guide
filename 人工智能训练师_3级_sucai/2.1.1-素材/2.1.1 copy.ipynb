{
 "cells": [
  {
   "cell_type": "code",
   "execution_count": 2,
   "id": "f8a15baf-9967-44f3-bac5-93db04578568",
   "metadata": {},
   "outputs": [
    {
     "name": "stdout",
     "output_type": "stream",
     "text": [
      "数据集的前五行:\n",
      "    mpg  cylinders  displacement horsepower  weight  acceleration  model year  \\\n",
      "0  18.0        8.0           NaN        130  3504.0          12.0        70.0   \n",
      "1  15.0        8.0         350.0        165  3693.0          11.5        70.0   \n",
      "2  18.0        8.0         318.0        150  3436.0          11.0        70.0   \n",
      "3  16.0        8.0         304.0        150  3433.0          12.0        70.0   \n",
      "4  17.0        8.0         302.0        140  3449.0          10.5        70.0   \n",
      "\n",
      "   origin                   car name  \n",
      "0       1  chevrolet chevelle malibu  \n",
      "1       1          buick skylark 320  \n",
      "2       1         plymouth satellite  \n",
      "3       1              amc rebel sst  \n",
      "4       1                ford torino  \n",
      "mpg             float64\n",
      "cylinders       float64\n",
      "displacement    float64\n",
      "horsepower       object\n",
      "weight          float64\n",
      "acceleration    float64\n",
      "model year      float64\n",
      "origin            int64\n",
      "car name         object\n",
      "dtype: object\n",
      "\n",
      "检查缺失值:\n"
     ]
    },
    {
     "ename": "NameError",
     "evalue": "name '__________' is not defined",
     "output_type": "error",
     "traceback": [
      "\u001b[0;31m---------------------------------------------------------------------------\u001b[0m",
      "\u001b[0;31mNameError\u001b[0m                                 Traceback (most recent call last)",
      "Cell \u001b[0;32mIn[2], line 13\u001b[0m\n\u001b[1;32m     11\u001b[0m \u001b[38;5;66;03m# 检查缺失值并删除缺失值所在的行  2分\u001b[39;00m\n\u001b[1;32m     12\u001b[0m \u001b[38;5;28mprint\u001b[39m(\u001b[38;5;124m\"\u001b[39m\u001b[38;5;130;01m\\n\u001b[39;00m\u001b[38;5;124m检查缺失值:\u001b[39m\u001b[38;5;124m\"\u001b[39m)\n\u001b[0;32m---> 13\u001b[0m \u001b[38;5;28mprint\u001b[39m(\u001b[43m__________\u001b[49m\u001b[38;5;241m.\u001b[39m__________\u001b[38;5;241m.\u001b[39m__________)  \n\u001b[1;32m     14\u001b[0m data \u001b[38;5;241m=\u001b[39m __________\n\u001b[1;32m     16\u001b[0m \u001b[38;5;66;03m# 将 'horsepower' 列转换为数值类型，并（删除）处理转换中的异常值 1分\u001b[39;00m\n",
      "\u001b[0;31mNameError\u001b[0m: name '__________' is not defined"
     ]
    }
   ],
   "source": [
    "import pandas as pd\n",
    "\n",
    "# 加载数据集并显示数据集的前五行 1分\n",
    "data = pd.read_csv('auto-mpg.csv')\n",
    "print(\"数据集的前五行:\")\n",
    "print(data.head())\n",
    "\n",
    "# 显示每一列的数据类型\n",
    "print(data.dtypes)\n",
    "\n",
    "# 检查缺失值并删除缺失值所在的行  2分\n",
    "print(\"\\n检查缺失值:\")\n",
    "print(__________.__________.__________)  \n",
    "data = __________\n",
    "\n",
    "# 将 'horsepower' 列转换为数值类型，并（删除）处理转换中的异常值 1分\n",
    "data['horsepower'] = __________(data['horsepower'], errors='coerce')\n",
    "data = __________\n",
    "\n",
    "# 显示每一列的数据类型\n",
    "print(data.horsepower.dtypes)\n",
    "\n",
    "# 检查清洗后的缺失值\n",
    "print(\"\\n检查清洗后的缺失值:\")\n",
    "print(data.isnull().sum())\n",
    "\n",
    "from sklearn.preprocessing import StandardScaler\n",
    "# 对数值型数据进行标准化处理 1分\n",
    "numerical_features = ['displacement', 'horsepower', 'weight', 'acceleration']\n",
    "scaler = StandardScaler()\n",
    "data[numerical_features] = __________\n",
    "\n",
    "from sklearn.model_selection import train_test_split\n",
    "# 选择特征、自变量和目标变量 2分\n",
    "selected_features = __________\n",
    "X = __________\n",
    "y = __________\n",
    "\n",
    "# 划分数据集为训练集和测试集（训练集占8成） 1分\n",
    "X_train, X_test, y_train, y_test = __________(__________, random_state=42)\n",
    "\n",
    "\n",
    "# 将特征和目标变量合并到一个数据框中\n",
    "cleaned_data = X.copy()\n",
    "cleaned_data['mpg'] = y\n",
    "\n",
    "# 保存清洗和处理后的数据（不存储额外的索引号） 1分\n",
    "__________('2.1.1_cleaned_data.csv', __________)\n",
    "\n",
    "# 打印消息指示文件已保存\n",
    "print(\"\\n清洗后的数据已保存到 2.1.1_cleaned_data.csv\")"
   ]
  },
  {
   "cell_type": "code",
   "execution_count": null,
   "id": "0ff66ac3-5f9b-48ed-a298-502ec9595abe",
   "metadata": {},
   "outputs": [],
   "source": []
  }
 ],
 "metadata": {
  "kernelspec": {
   "display_name": "Python 3",
   "language": "python",
   "name": "python3"
  },
  "language_info": {
   "codemirror_mode": {
    "name": "ipython",
    "version": 3
   },
   "file_extension": ".py",
   "mimetype": "text/x-python",
   "name": "python",
   "nbconvert_exporter": "python",
   "pygments_lexer": "ipython3",
   "version": "3.9.6"
  }
 },
 "nbformat": 4,
 "nbformat_minor": 5
}
