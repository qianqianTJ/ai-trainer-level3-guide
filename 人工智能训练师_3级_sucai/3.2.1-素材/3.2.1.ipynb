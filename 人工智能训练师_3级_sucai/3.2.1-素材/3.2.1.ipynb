{
 "cells": [
  {
   "cell_type": "code",
   "execution_count": 1,
   "id": "19329612-70a9-473b-a5f4-02eb497f597b",
   "metadata": {},
   "outputs": [
    {
     "ename": "NameError",
     "evalue": "name '_________________' is not defined",
     "output_type": "error",
     "traceback": [
      "\u001b[0;31m---------------------------------------------------------------------------\u001b[0m",
      "\u001b[0;31mNameError\u001b[0m                                 Traceback (most recent call last)",
      "Cell \u001b[0;32mIn[1], line 23\u001b[0m\n\u001b[1;32m     19\u001b[0m   \u001b[38;5;28;01mreturn\u001b[39;00m image\n\u001b[1;32m     22\u001b[0m \u001b[38;5;66;03m# 模型加载 2分\u001b[39;00m\n\u001b[0;32m---> 23\u001b[0m session \u001b[38;5;241m=\u001b[39m \u001b[43m_________________\u001b[49m\n\u001b[1;32m     26\u001b[0m \u001b[38;5;66;03m# 加载类别标签\u001b[39;00m\n\u001b[1;32m     27\u001b[0m labels_path \u001b[38;5;241m=\u001b[39m \u001b[38;5;124m'\u001b[39m\u001b[38;5;124mlabels.txt\u001b[39m\u001b[38;5;124m'\u001b[39m\n",
      "\u001b[0;31mNameError\u001b[0m: name '_________________' is not defined"
     ]
    }
   ],
   "source": [
    "import onnxruntime as ort\n",
    "import numpy as np\n",
    "import scipy.special\n",
    "from PIL import Image\n",
    "\n",
    "\n",
    "# 预处理图像\n",
    "def preprocess_image(image, resize_size=256, crop_size=224, mean=[0.485, 0.456, 0.406], std=[0.229, 0.224, 0.225]):\n",
    "  image = image.resize((resize_size, resize_size), Image.BILINEAR)\n",
    "  w, h = image.size\n",
    "  left = (w - crop_size) / 2\n",
    "  top = (h - crop_size) / 2\n",
    "  image = image.crop((left, top, left + crop_size, top + crop_size))\n",
    "  image = np.array(image).astype(np.float32)\n",
    "  image = image / 255.0\n",
    "  image = (image - mean) / std\n",
    "  image = np.transpose(image, (2, 0, 1))\n",
    "  image = image.reshape((1,) + image.shape)\n",
    "  return image\n",
    "\n",
    "\n",
    "# 模型加载 2分\n",
    "session = _________________\n",
    "\n",
    "\n",
    "# 加载类别标签\n",
    "labels_path = 'labels.txt'\n",
    "with open(labels_path) as f:\n",
    "  labels = [line.strip() for line in f.readlines()]\n",
    "\n",
    "\n",
    "# 获取模型输入和输出的名称\n",
    "input_name = session.get_inputs()[0].name\n",
    "output_name = session.get_outputs()[0].name\n",
    "\n",
    "\n",
    "# 加载图片 2分\n",
    "image = _________________('RGB')\n",
    "\n",
    "\n",
    "# 预处理图片 2分\n",
    "processed_image = _________________\n",
    "\n",
    "\n",
    "# 确保输入数据是 float32 类型\n",
    "processed_image = processed_image.astype(np.float32)\n",
    "\n",
    "\n",
    "# 进行图片识别 2分\n",
    "output = _________________([output_name], {input_name: processed_image})[0]\n",
    "\n",
    "\n",
    "# 应用 softmax 函数获取概率 2分\n",
    "probabilities = _________________(output, axis=-1)\n",
    "\n",
    "\n",
    "# 获取最高的5个概率和对应的类别索引 3分\n",
    "top5_idx = _________________[-5:][::-1]\n",
    "top5_prob = _________________\n",
    "\n",
    "\n",
    "# 打印结果\n",
    "print(\"Top 5 predicted classes:\")\n",
    "for i in range(5):\n",
    "  print(f\"{i+1}: {labels[top5_idx[i]]} - Probability: {top5_prob[i]}\")\n"
   ]
  }
 ],
 "metadata": {
  "kernelspec": {
   "display_name": "Python 3",
   "language": "python",
   "name": "python3"
  },
  "language_info": {
   "codemirror_mode": {
    "name": "ipython",
    "version": 3
   },
   "file_extension": ".py",
   "mimetype": "text/x-python",
   "name": "python",
   "nbconvert_exporter": "python",
   "pygments_lexer": "ipython3",
   "version": "3.9.6"
  }
 },
 "nbformat": 4,
 "nbformat_minor": 5
}
