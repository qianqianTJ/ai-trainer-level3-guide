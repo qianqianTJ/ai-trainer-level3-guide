{
 "cells": [
  {
   "cell_type": "code",
   "execution_count": 4,
   "id": "f2005c85-fca0-4f82-9b98-5d30974c2ac9",
   "metadata": {},
   "outputs": [
    {
     "name": "stdout",
     "output_type": "stream",
     "text": [
      "数据采集完成，已加载到DataFrame中\n",
      "   UserID UserName  Age  Gender    Location   LastLogin  PurchaseAmount  \\\n",
      "0       1   User_1   62  Female  Location_1  2023-06-10             118   \n",
      "1       2   User_2   65  Female  Location_2  2023-08-14             466   \n",
      "2       3   User_3   18    Male  Location_3  2023-02-17             869   \n",
      "3       4   User_4   21  Female  Location_4  2023-03-14             486   \n",
      "4       5   User_5   21    Male  Location_5  2023-07-26             753   \n",
      "\n",
      "  PurchaseCategory  ReviewScore LoginFrequency  \n",
      "0         Clothing            3        Monthly  \n",
      "1      Electronics            4         Weekly  \n",
      "2    Home & Garden            3         Weekly  \n",
      "3            Books            2         Weekly  \n",
      "4    Home & Garden            1        Monthly  \n"
     ]
    }
   ],
   "source": [
    "import pandas\n",
    "import numpy as np\n",
    "import matplotlib.pyplot as plt\n",
    "\n",
    "# 1. 数据采集\n",
    "# 从本地文件中读取数据  2分\n",
    "data =  pandas.read_csv('user_behavior_data.csv')\n",
    "print(\"数据采集完成，已加载到DataFrame中\")\n",
    "\n",
    "# 打印数据的前5条记录  2分\n",
    "print(data.head())  #默认5条"
   ]
  },
  {
   "cell_type": "code",
   "execution_count": null,
   "id": "eda9dfd8-e32c-4c69-b176-106edcca2482",
   "metadata": {},
   "outputs": [],
   "source": [
    "# 2. 数据清洗与预处理\n",
    "# 处理缺失值（删除）  2分\n",
    "data = data.dropna()\n",
    "data\n",
    "\n",
    "# 数据类型转换\n",
    "data['Age'] = data['Age'].astype(int)   # Age数据类型转换为int 2分\n",
    "data['PurchaseAmount'] = data['PurchaseAmount'].astype(float) # PurchaseAmount数据类型转换为float  2分\n",
    "data['ReviewScore'] = data['ReviewScore'].astype(int)   # ReviewScore数据类型转换为int 2分\n",
    "\n",
    "# 处理异常值  2分\n",
    "data = data[(data['Age'].between(18, 70)) & \n",
    "            (data['PurchaseAmount'] > 0) & \n",
    "            (data['ReviewScore'].between(1, 5))]\n",
    "\n",
    "# 数据标准化\n",
    "data['PurchaseAmount'] = (data['PurchaseAmount'] - data['PurchaseAmount'].mean()) / data['PurchaseAmount'].std()  # PurchaseAmount数据标准化 2分\n",
    "data['ReviewScore'] = (data['ReviewScore'] - data['ReviewScore'].mean()) / data['ReviewScore'].std()        # ReviewScore数据标准化 2分\n",
    "\n",
    "# 保存清洗后的数据  1分\n",
    "data.to_csv('cleaned_user_behavior_data.csv', index=False)\n",
    "print(\"数据清洗完成，已保存为 'cleaned_user_behavior_data.csv'\")"
   ]
  },
  {
   "cell_type": "code",
   "execution_count": null,
   "id": "89b3e72f-e184-4903-bc2b-059a1b029c96",
   "metadata": {},
   "outputs": [],
   "source": [
    "# 3. 数据统计\n",
    "# 统计每个购买类别的用户数 2分\n",
    "purchase_category_counts = data['PurchaseCategory'].value_counts()\n",
    "print(\"每个购买类别的用户数:\\n\", purchase_category_counts)\n",
    "\n",
    "# 统计不同性别的平均购买金额 2分\n",
    "gender_purchase_amount_mean = data.groupby('Gender')['PurchaseAmount'].mean()\n",
    "print(\"不同性别的平均购买金额:\\n\", gender_purchase_amount_mean)\n",
    "\n",
    "# 统计不同年龄段的用户数 2分\n",
    "bins = [18, 26, 36, 46, 56, 66, np.inf]\n",
    "labels = ['18-25', '26-35', '36-45', '46-55', '56-65', '65+']\n",
    "data['AgeGroup'] = pandas.cut(________________, right=False)\n",
    "age_group_counts = data['AgeGroup'].value_counts().sort_index()\n",
    "print(\"不同年龄段的用户数:\\n\", age_group_counts)\n"
   ]
  }
 ],
 "metadata": {
  "kernelspec": {
   "display_name": "Python 3",
   "language": "python",
   "name": "python3"
  },
  "language_info": {
   "codemirror_mode": {
    "name": "ipython",
    "version": 3
   },
   "file_extension": ".py",
   "mimetype": "text/x-python",
   "name": "python",
   "nbconvert_exporter": "python",
   "pygments_lexer": "ipython3",
   "version": "3.9.6"
  }
 },
 "nbformat": 4,
 "nbformat_minor": 5
}
