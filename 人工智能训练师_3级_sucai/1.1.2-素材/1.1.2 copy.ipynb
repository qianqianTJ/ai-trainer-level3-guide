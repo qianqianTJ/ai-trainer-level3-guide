{
 "cells": [
  {
   "cell_type": "code",
   "execution_count": 2,
   "id": "dc6df6cd-ed8a-4658-bc6c-0e6d3954c384",
   "metadata": {},
   "outputs": [],
   "source": [
    "import pandas as pd\n",
    "import numpy as np\n",
    "import matplotlib.pyplot as plt\n",
    "# 读取数据集 2分\n",
    "data = pd.read_csv('sensor_data.csv')"
   ]
  },
  {
   "cell_type": "code",
   "execution_count": 4,
   "id": "827966a0-74d4-406a-b6c0-02bf756f0140",
   "metadata": {},
   "outputs": [
    {
     "name": "stdout",
     "output_type": "stream",
     "text": [
      "传感器数据数量和平均值:\n",
      "              count       mean\n",
      "SensorType                    \n",
      "Humidity       2065  48.978302\n",
      "Light          1950  49.439011\n",
      "SoilMoisture   1951  49.325119\n",
      "SoilPH         2029  49.865460\n",
      "Temperature    2005  49.847153\n"
     ]
    }
   ],
   "source": [
    "# 1. 传感器数据统计\n",
    "# 对传感器类型进行分组，并计算每个组的数据数量和平均值 3分\n",
    "sensor_stats = data.groupby('SensorType')['Value'].agg(['count', 'mean'])\n",
    "# 输出结果\n",
    "print(\"传感器数据数量和平均值:\")\n",
    "print(sensor_stats)"
   ]
  },
  {
   "cell_type": "code",
   "execution_count": 5,
   "id": "b5cb3daa-45a0-4dae-ab84-07e9129158c7",
   "metadata": {},
   "outputs": [
    {
     "name": "stdout",
     "output_type": "stream",
     "text": [
      "每个位置的温度和湿度数据平均值:\n",
      "SensorType   Humidity  Temperature\n",
      "Location                          \n",
      "Field1      49.036008    50.482617\n",
      "Field2      47.379411    49.874282\n",
      "Field3      49.583266    48.761804\n",
      "Field4      49.955498    50.241608\n"
     ]
    }
   ],
   "source": [
    "# 2. 按位置统计温度和湿度数据\n",
    "# 筛选出温度和湿度数据，然后按位置和传感器类型分组，计算每个组的平均值 2分\n",
    "location_stats = data[data['SensorType'].isin(['Temperature', 'Humidity'])].groupby(['Location', 'SensorType'])['Value'].mean().unstack()\n",
    "# 输出结果\n",
    "print(\"每个位置的温度和湿度数据平均值:\")\n",
    "print(location_stats)"
   ]
  },
  {
   "cell_type": "code",
   "execution_count": 6,
   "id": "68064e8f-ac9a-4f17-926d-d18489e704c1",
   "metadata": {},
   "outputs": [
    {
     "name": "stdout",
     "output_type": "stream",
     "text": [
      "异常值数量: 1011\n",
      "数据清洗完成，已保存为 'cleaned_sensor_data.csv'\n"
     ]
    },
    {
     "name": "stderr",
     "output_type": "stream",
     "text": [
      "/var/folders/25/ddxgf1kn0r9_d2h2tgy2mv_m0000gn/T/ipykernel_27581/3338424153.py:12: FutureWarning: A value is trying to be set on a copy of a DataFrame or Series through chained assignment using an inplace method.\n",
      "The behavior will change in pandas 3.0. This inplace method will never work because the intermediate object on which we are setting values always behaves as a copy.\n",
      "\n",
      "For example, when doing 'df[col].method(value, inplace=True)', try using 'df.method({col: value}, inplace=True)' or df[col] = df[col].method(value) instead, to perform the operation inplace on the original object.\n",
      "\n",
      "\n",
      "  data['Value'].fillna(method='ffill', inplace=True)\n",
      "/var/folders/25/ddxgf1kn0r9_d2h2tgy2mv_m0000gn/T/ipykernel_27581/3338424153.py:12: FutureWarning: Series.fillna with 'method' is deprecated and will raise in a future version. Use obj.ffill() or obj.bfill() instead.\n",
      "  data['Value'].fillna(method='ffill', inplace=True)\n",
      "/var/folders/25/ddxgf1kn0r9_d2h2tgy2mv_m0000gn/T/ipykernel_27581/3338424153.py:13: FutureWarning: A value is trying to be set on a copy of a DataFrame or Series through chained assignment using an inplace method.\n",
      "The behavior will change in pandas 3.0. This inplace method will never work because the intermediate object on which we are setting values always behaves as a copy.\n",
      "\n",
      "For example, when doing 'df[col].method(value, inplace=True)', try using 'df.method({col: value}, inplace=True)' or df[col] = df[col].method(value) instead, to perform the operation inplace on the original object.\n",
      "\n",
      "\n",
      "  data['Value'].fillna(method='bfill', inplace=True)\n",
      "/var/folders/25/ddxgf1kn0r9_d2h2tgy2mv_m0000gn/T/ipykernel_27581/3338424153.py:13: FutureWarning: Series.fillna with 'method' is deprecated and will raise in a future version. Use obj.ffill() or obj.bfill() instead.\n",
      "  data['Value'].fillna(method='bfill', inplace=True)\n"
     ]
    }
   ],
   "source": [
    "# 3. 数据清洗和异常值处理\n",
    "# 标记异常值 3分\n",
    "data['is_abnormal'] = np.where(\n",
    "    ((data['SensorType'] == 'Temperature') & ((data['Value'] < -10) | (data['Value'] > 50))) |\n",
    "    ((data['SensorType'] == 'Humidity') & ((data['Value'] < 0) | (data['Value'] > 100))),\n",
    "    True, False\n",
    ")\n",
    "# 输出异常值数量 2分\n",
    "print(\"异常值数量:\", data['is_abnormal'].sum())\n",
    "# 填补缺失值\n",
    "# 使用前向填充和后向填充的方法填补缺失值 4分\n",
    "data['Value'].fillna(method='ffill', inplace=True)\n",
    "data['Value'].fillna(method='bfill', inplace=True)\n",
    "# 保存清洗后的数据\n",
    "# 删除用于标记异常值的列，并将清洗后的数据保存到新的CSV文件中 4分\n",
    "cleaned_data = data.drop(columns=['is_abnormal'])\n",
    "cleaned_data.to_csv('cleaned_sensor_data.csv', index=False)\n",
    "print(\"数据清洗完成，已保存为 'cleaned_sensor_data.csv'\")"
   ]
  }
 ],
 "metadata": {
  "kernelspec": {
   "display_name": "Python 3",
   "language": "python",
   "name": "python3"
  },
  "language_info": {
   "codemirror_mode": {
    "name": "ipython",
    "version": 3
   },
   "file_extension": ".py",
   "mimetype": "text/x-python",
   "name": "python",
   "nbconvert_exporter": "python",
   "pygments_lexer": "ipython3",
   "version": "3.9.6"
  }
 },
 "nbformat": 4,
 "nbformat_minor": 5
}
