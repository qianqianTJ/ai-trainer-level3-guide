{
 "cells": [
  {
   "cell_type": "code",
   "execution_count": null,
   "id": "efb22380-7ffc-4761-904a-706d3a07e292",
   "metadata": {},
   "outputs": [],
   "source": [
    "import pandas as pd\n",
    "#读取一个Excel文件，并将读取到的数据存储在变量data中\n",
    "data = __________\n",
    "#打印出数据集的前5行\n",
    "print(data.head())\n",
    "\n",
    "#处理数据集中的缺失值\n",
    "initial_row_count = __________   #处理前的数据行数\n",
    "data = __________                #删除缺失值所在行\n",
    "final_row_count = __________     #处理后的数据行数\n",
    "print(f'处理后数据行数: {final_row_count}, 删除的行数: {initial_row_count - final_row_count}')\n",
    "\n",
    "#删除重复行\n",
    "data = __________\n",
    "\n",
    "from sklearn.preprocessing import StandardScaler\n",
    "numerical_features = ['4.您的月生活费○≦1,000元   ○1,001-2,000元   ○2,001-3,000元   ○≧3,001元']\n",
    "scaler = StandardScaler()\n",
    "data[numerical_features] = __________\n",
    "\n",
    "#选择特征\n",
    "selected_features = [__________]\n",    
    "X = __________\n",
    "\n",
    "# 创建目标变量\n",
    "y = __________\n",
    "\n",
    "from sklearn.model_selection import train_test_split\n",
    "# 数据划分（测试集取20%）\n",
    "X_train, X_test, y_train, y_test = __________(__________, random_state=42)\n",
    "\n",
    "# 合并处理后得数据，并将其保存（保存中不用额外创建索引）\n",
    "cleaned_data = __________(__________, axis=1)\n",
    "__________('2.1.2_cleaned_data.csv', __________)"
   ]
  },
  {
   "cell_type": "code",
   "execution_count": null,
   "id": "da15f362-43f9-4210-a7d3-0776b4413551",
   "metadata": {},
   "outputs": [],
   "source": []
  }
 ],
 "metadata": {
  "kernelspec": {
   "display_name": "Python 3 (ipykernel)",
   "language": "python",
   "name": "python3"
  },
  "language_info": {
   "codemirror_mode": {
    "name": "ipython",
    "version": 3
   },
   "file_extension": ".py",
   "mimetype": "text/x-python",
   "name": "python",
   "nbconvert_exporter": "python",
   "pygments_lexer": "ipython3",
   "version": "3.9.2"
  }
 },
 "nbformat": 4,
 "nbformat_minor": 5
}
