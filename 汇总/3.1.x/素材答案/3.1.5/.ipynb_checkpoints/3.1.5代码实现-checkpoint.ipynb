{
 "cells": [
  {
   "cell_type": "code",
   "execution_count": 10,
   "id": "aa8735e1-6741-49ff-af12-680b48867be8",
   "metadata": {},
   "outputs": [
    {
     "name": "stdout",
     "output_type": "stream",
     "text": [
      "                  时间戳         温度         湿度        光照水平      响应时间      能源消耗\n",
      "0 2023-12-29 21:00:00  23.747935  54.062400  511.983730  3.546782  1.521709\n",
      "1 2023-04-01 23:00:00  24.286860  50.541367  439.225932  4.600182  0.442385\n",
      "2 2023-12-29 19:00:00  26.830566  61.285493  732.101617  4.095811  0.839144\n",
      "3 2023-08-07 13:00:00  26.009478  65.483128  286.591695  1.515461  0.171440\n",
      "4 2023-12-29 17:00:00  20.704830  30.080477  166.851586  1.266629  0.122397\n"
     ]
    }
   ],
   "source": [
    "import pandas as pd\n",
    "\n",
    "data = pd.read_excel('智能家居环境控制系统数据集.xlsx')\n",
    "\n",
    "print(data.head())"
   ]
  },
  {
   "cell_type": "code",
   "execution_count": 6,
   "id": "47b0e27c-78ef-4a56-a248-9c886a192940",
   "metadata": {},
   "outputs": [
    {
     "name": "stderr",
     "output_type": "stream",
     "text": [
      "C:\\Users\\ZhuanZ\\AppData\\Local\\Temp\\ipykernel_19100\\4021120640.py:4: FutureWarning: The default of observed=False is deprecated and will be changed to True in a future version of pandas. Pass observed=False to retain current behavior or observed=True to adopt the future default and silence this warning.\n",
      "  data.groupby(data['时间段'])[['温度','湿度','光照水平','响应时间']].mean()\n"
     ]
    },
    {
     "data": {
      "text/html": [
       "<div>\n",
       "<style scoped>\n",
       "    .dataframe tbody tr th:only-of-type {\n",
       "        vertical-align: middle;\n",
       "    }\n",
       "\n",
       "    .dataframe tbody tr th {\n",
       "        vertical-align: top;\n",
       "    }\n",
       "\n",
       "    .dataframe thead th {\n",
       "        text-align: right;\n",
       "    }\n",
       "</style>\n",
       "<table border=\"1\" class=\"dataframe\">\n",
       "  <thead>\n",
       "    <tr style=\"text-align: right;\">\n",
       "      <th></th>\n",
       "      <th>温度</th>\n",
       "      <th>湿度</th>\n",
       "      <th>光照水平</th>\n",
       "      <th>响应时间</th>\n",
       "    </tr>\n",
       "    <tr>\n",
       "      <th>时间段</th>\n",
       "      <th></th>\n",
       "      <th></th>\n",
       "      <th></th>\n",
       "      <th></th>\n",
       "    </tr>\n",
       "  </thead>\n",
       "  <tbody>\n",
       "    <tr>\n",
       "      <th>凌晨</th>\n",
       "      <td>24.759419</td>\n",
       "      <td>49.882393</td>\n",
       "      <td>554.446013</td>\n",
       "      <td>3.038388</td>\n",
       "    </tr>\n",
       "    <tr>\n",
       "      <th>早上</th>\n",
       "      <td>24.804133</td>\n",
       "      <td>49.564487</td>\n",
       "      <td>544.885300</td>\n",
       "      <td>3.100678</td>\n",
       "    </tr>\n",
       "    <tr>\n",
       "      <th>下午</th>\n",
       "      <td>24.908902</td>\n",
       "      <td>50.067347</td>\n",
       "      <td>545.716281</td>\n",
       "      <td>2.923863</td>\n",
       "    </tr>\n",
       "    <tr>\n",
       "      <th>晚上</th>\n",
       "      <td>25.160604</td>\n",
       "      <td>49.686023</td>\n",
       "      <td>538.780672</td>\n",
       "      <td>3.008611</td>\n",
       "    </tr>\n",
       "  </tbody>\n",
       "</table>\n",
       "</div>"
      ],
      "text/plain": [
       "            温度         湿度        光照水平      响应时间\n",
       "时间段                                            \n",
       "凌晨   24.759419  49.882393  554.446013  3.038388\n",
       "早上   24.804133  49.564487  544.885300  3.100678\n",
       "下午   24.908902  50.067347  545.716281  2.923863\n",
       "晚上   25.160604  49.686023  538.780672  3.008611"
      ]
     },
     "execution_count": 6,
     "metadata": {},
     "output_type": "execute_result"
    }
   ],
   "source": [
    "# 用户环境偏好\n",
    "data['小时'] = pd.to_datetime(data['时间戳']).dt.hour\n",
    "data['时间段'] = pd.cut(data['小时'],bins=[0,6,12,18,24],labels=['凌晨','早上','下午','晚上'],right=False)\n",
    "data.groupby(data['时间段'])[['温度','湿度','光照水平','响应时间']].mean()"
   ]
  },
  {
   "cell_type": "code",
   "execution_count": 9,
   "id": "a05d8b4c-b9f2-4f6c-84a7-dc0e046ae854",
   "metadata": {},
   "outputs": [
    {
     "data": {
      "text/html": [
       "<div>\n",
       "<style scoped>\n",
       "    .dataframe tbody tr th:only-of-type {\n",
       "        vertical-align: middle;\n",
       "    }\n",
       "\n",
       "    .dataframe tbody tr th {\n",
       "        vertical-align: top;\n",
       "    }\n",
       "\n",
       "    .dataframe thead th {\n",
       "        text-align: right;\n",
       "    }\n",
       "</style>\n",
       "<table border=\"1\" class=\"dataframe\">\n",
       "  <thead>\n",
       "    <tr style=\"text-align: right;\">\n",
       "      <th></th>\n",
       "      <th>时间戳</th>\n",
       "      <th>温度</th>\n",
       "      <th>湿度</th>\n",
       "      <th>光照水平</th>\n",
       "      <th>响应时间</th>\n",
       "      <th>能源消耗</th>\n",
       "    </tr>\n",
       "  </thead>\n",
       "  <tbody>\n",
       "    <tr>\n",
       "      <th>时间戳</th>\n",
       "      <td>1.000000</td>\n",
       "      <td>-0.007806</td>\n",
       "      <td>-0.034707</td>\n",
       "      <td>0.013569</td>\n",
       "      <td>-0.001844</td>\n",
       "      <td>0.015040</td>\n",
       "    </tr>\n",
       "    <tr>\n",
       "      <th>温度</th>\n",
       "      <td>-0.007806</td>\n",
       "      <td>1.000000</td>\n",
       "      <td>-0.016503</td>\n",
       "      <td>0.002868</td>\n",
       "      <td>0.003609</td>\n",
       "      <td>-0.013720</td>\n",
       "    </tr>\n",
       "    <tr>\n",
       "      <th>湿度</th>\n",
       "      <td>-0.034707</td>\n",
       "      <td>-0.016503</td>\n",
       "      <td>1.000000</td>\n",
       "      <td>0.004547</td>\n",
       "      <td>0.016050</td>\n",
       "      <td>-0.030420</td>\n",
       "    </tr>\n",
       "    <tr>\n",
       "      <th>光照水平</th>\n",
       "      <td>0.013569</td>\n",
       "      <td>0.002868</td>\n",
       "      <td>0.004547</td>\n",
       "      <td>1.000000</td>\n",
       "      <td>-0.032448</td>\n",
       "      <td>0.062564</td>\n",
       "    </tr>\n",
       "    <tr>\n",
       "      <th>响应时间</th>\n",
       "      <td>-0.001844</td>\n",
       "      <td>0.003609</td>\n",
       "      <td>0.016050</td>\n",
       "      <td>-0.032448</td>\n",
       "      <td>1.000000</td>\n",
       "      <td>-0.013752</td>\n",
       "    </tr>\n",
       "    <tr>\n",
       "      <th>能源消耗</th>\n",
       "      <td>0.015040</td>\n",
       "      <td>-0.013720</td>\n",
       "      <td>-0.030420</td>\n",
       "      <td>0.062564</td>\n",
       "      <td>-0.013752</td>\n",
       "      <td>1.000000</td>\n",
       "    </tr>\n",
       "  </tbody>\n",
       "</table>\n",
       "</div>"
      ],
      "text/plain": [
       "           时间戳        温度        湿度      光照水平      响应时间      能源消耗\n",
       "时间戳   1.000000 -0.007806 -0.034707  0.013569 -0.001844  0.015040\n",
       "温度   -0.007806  1.000000 -0.016503  0.002868  0.003609 -0.013720\n",
       "湿度   -0.034707 -0.016503  1.000000  0.004547  0.016050 -0.030420\n",
       "光照水平  0.013569  0.002868  0.004547  1.000000 -0.032448  0.062564\n",
       "响应时间 -0.001844  0.003609  0.016050 -0.032448  1.000000 -0.013752\n",
       "能源消耗  0.015040 -0.013720 -0.030420  0.062564 -0.013752  1.000000"
      ]
     },
     "execution_count": 9,
     "metadata": {},
     "output_type": "execute_result"
    }
   ],
   "source": [
    "# 系统响应时间：\n",
    "data.corr()"
   ]
  },
  {
   "cell_type": "code",
   "execution_count": 12,
   "id": "3e2a224d-6249-4e81-ae96-c2973507445e",
   "metadata": {},
   "outputs": [
    {
     "name": "stdout",
     "output_type": "stream",
     "text": [
      "1.020874562378274\n"
     ]
    }
   ],
   "source": [
    "# 平均能耗\n",
    "print(data['能源消耗'].mean())"
   ]
  },
  {
   "cell_type": "code",
   "execution_count": null,
   "id": "11824de3-3142-4759-b1d9-7c54dee6a557",
   "metadata": {},
   "outputs": [],
   "source": []
  }
 ],
 "metadata": {
  "kernelspec": {
   "display_name": "Python 3 (ipykernel)",
   "language": "python",
   "name": "python3"
  },
  "language_info": {
   "codemirror_mode": {
    "name": "ipython",
    "version": 3
   },
   "file_extension": ".py",
   "mimetype": "text/x-python",
   "name": "python",
   "nbconvert_exporter": "python",
   "pygments_lexer": "ipython3",
   "version": "3.12.8"
  }
 },
 "nbformat": 4,
 "nbformat_minor": 5
}
