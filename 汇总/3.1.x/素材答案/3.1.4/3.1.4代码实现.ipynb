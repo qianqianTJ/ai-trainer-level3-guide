{
 "cells": [
  {
   "cell_type": "code",
   "execution_count": 1,
   "id": "d13ce17d-5927-4499-806f-8ed52aa9d08a",
   "metadata": {},
   "outputs": [
    {
     "name": "stdout",
     "output_type": "stream",
     "text": [
      "                时间戳    收缩压   舒张压    血糖  体脂分析  响应时间\n",
      "0  2024-09-15 00:00  111.0  80.0   NaN   NaN  0.80\n",
      "1  2024-09-15 06:00  128.0  79.0   NaN   NaN  0.50\n",
      "2  2024-09-15 07:00    NaN   NaN  4.37   NaN  0.89\n",
      "3  2024-09-15 07:00    NaN   NaN   NaN  0.17  0.69\n",
      "4  2024-09-15 07:30  128.0  74.0   NaN   NaN  0.57\n"
     ]
    }
   ],
   "source": [
    "import pandas as pd\n",
    "\n",
    "data = pd.read_excel('智能健康监测系统数据集.xlsx')\n",
    "\n",
    "print(data.head())"
   ]
  },
  {
   "cell_type": "code",
   "execution_count": 11,
   "id": "b4283e1a-5234-4957-a803-d75c96e41610",
   "metadata": {},
   "outputs": [
    {
     "name": "stdout",
     "output_type": "stream",
     "text": [
      "           收缩压     舒张压       血糖  体脂分析\n",
      "时:分                                  \n",
      "00:00  110.500  79.875      NaN   NaN\n",
      "06:00  113.750  81.375      NaN   NaN\n",
      "07:00      NaN     NaN  4.48250  0.17\n",
      "07:30  131.375  72.375      NaN   NaN\n",
      "08:00      NaN     NaN  6.89500   NaN\n",
      "09:00      NaN     NaN  5.93125   NaN\n",
      "10:00  115.875  72.500      NaN   NaN\n",
      "12:00  118.750  70.250  4.63875   NaN\n",
      "13:00  115.375  72.500  6.81250   NaN\n",
      "14:00      NaN     NaN  6.19875   NaN\n",
      "16:00  114.500  73.000      NaN   NaN\n",
      "18:00  106.875  77.000  4.27125   NaN\n",
      "19:00  110.000  74.375  6.80875   NaN\n",
      "20:00      NaN     NaN  5.83250   NaN\n",
      "22:00  111.000  72.000  4.58875   NaN\n"
     ]
    }
   ],
   "source": [
    "data['时:分'] = pd.to_datetime(data['时间戳']).dt.strftime('%H:%M')\n",
    "status_by_time = data.groupby('时:分')[['收缩压','舒张压','血糖','体脂分析']].mean()\n",
    "print(status_by_time)"
   ]
  },
  {
   "cell_type": "code",
   "execution_count": 10,
   "id": "c35dc274-a4dc-4411-abd3-7b75f443e1d5",
   "metadata": {},
   "outputs": [
    {
     "data": {
      "text/plain": [
       "时:分\n",
       "07:30    131.375\n",
       "12:00    118.750\n",
       "10:00    115.875\n",
       "13:00    115.375\n",
       "16:00    114.500\n",
       "06:00    113.750\n",
       "22:00    111.000\n",
       "00:00    110.500\n",
       "19:00    110.000\n",
       "18:00    106.875\n",
       "07:00        NaN\n",
       "08:00        NaN\n",
       "09:00        NaN\n",
       "14:00        NaN\n",
       "20:00        NaN\n",
       "Name: 收缩压, dtype: float64"
      ]
     },
     "execution_count": 10,
     "metadata": {},
     "output_type": "execute_result"
    }
   ],
   "source": [
    "# 收缩压高风险时间段\n",
    "status_by_time['收缩压'].sort_values(ascending=False)"
   ]
  },
  {
   "cell_type": "code",
   "execution_count": 12,
   "id": "9edf5eb3-8fe1-43ce-86f2-a3f9ee6ee957",
   "metadata": {},
   "outputs": [
    {
     "data": {
      "text/plain": [
       "时:分\n",
       "06:00    81.375\n",
       "00:00    79.875\n",
       "18:00    77.000\n",
       "19:00    74.375\n",
       "16:00    73.000\n",
       "10:00    72.500\n",
       "13:00    72.500\n",
       "07:30    72.375\n",
       "22:00    72.000\n",
       "12:00    70.250\n",
       "07:00       NaN\n",
       "08:00       NaN\n",
       "09:00       NaN\n",
       "14:00       NaN\n",
       "20:00       NaN\n",
       "Name: 舒张压, dtype: float64"
      ]
     },
     "execution_count": 12,
     "metadata": {},
     "output_type": "execute_result"
    }
   ],
   "source": [
    "# 舒张压高风险时间段\n",
    "status_by_time['舒张压'].sort_values(ascending=False)"
   ]
  },
  {
   "cell_type": "code",
   "execution_count": 15,
   "id": "49078e63-a8a2-4b50-ba89-95d55304d9f7",
   "metadata": {},
   "outputs": [
    {
     "data": {
      "text/plain": [
       "时:分\n",
       "08:00    6.89500\n",
       "13:00    6.81250\n",
       "19:00    6.80875\n",
       "14:00    6.19875\n",
       "09:00    5.93125\n",
       "20:00    5.83250\n",
       "12:00    4.63875\n",
       "22:00    4.58875\n",
       "07:00    4.48250\n",
       "18:00    4.27125\n",
       "00:00        NaN\n",
       "06:00        NaN\n",
       "07:30        NaN\n",
       "10:00        NaN\n",
       "16:00        NaN\n",
       "Name: 血糖, dtype: float64"
      ]
     },
     "execution_count": 15,
     "metadata": {},
     "output_type": "execute_result"
    }
   ],
   "source": [
    "# 血糖高风险时间段\n",
    "status_by_time['血糖'].sort_values(ascending=False)"
   ]
  },
  {
   "cell_type": "code",
   "execution_count": 14,
   "id": "54a3c480-2f2d-426c-abb7-1102fef4412b",
   "metadata": {},
   "outputs": [
    {
     "data": {
      "text/plain": [
       "时:分\n",
       "07:00    0.17\n",
       "00:00     NaN\n",
       "06:00     NaN\n",
       "07:30     NaN\n",
       "08:00     NaN\n",
       "09:00     NaN\n",
       "10:00     NaN\n",
       "12:00     NaN\n",
       "13:00     NaN\n",
       "14:00     NaN\n",
       "16:00     NaN\n",
       "18:00     NaN\n",
       "19:00     NaN\n",
       "20:00     NaN\n",
       "22:00     NaN\n",
       "Name: 体脂分析, dtype: float64"
      ]
     },
     "execution_count": 14,
     "metadata": {},
     "output_type": "execute_result"
    }
   ],
   "source": [
    "status_by_time['体脂分析'].sort_values(ascending=False)"
   ]
  },
  {
   "cell_type": "code",
   "execution_count": 16,
   "id": "4f01fdb6-8452-4fd0-bb0d-3173ef891f6e",
   "metadata": {},
   "outputs": [
    {
     "data": {
      "text/plain": [
       "收缩压     80\n",
       "舒张压     80\n",
       "血糖      80\n",
       "体脂分析     8\n",
       "dtype: int64"
      ]
     },
     "execution_count": 16,
     "metadata": {},
     "output_type": "execute_result"
    }
   ],
   "source": [
    "# 健康指标偏好度\n",
    "data[['收缩压','舒张压','血糖','体脂分析']].count()"
   ]
  },
  {
   "cell_type": "code",
   "execution_count": 21,
   "id": "0658aa22-a100-4bd0-bf32-13c5f5f22648",
   "metadata": {},
   "outputs": [
    {
     "name": "stdout",
     "output_type": "stream",
     "text": [
      "收缩压平均响应时间\n",
      "0.6192500000000001\n",
      "舒张压平均响应时间\n",
      "0.6192500000000001\n",
      "血糖平均响应时间\n",
      "0.59925\n",
      "体脂分析平均响应时间\n",
      "0.66125\n"
     ]
    }
   ],
   "source": [
    "# 响应时间\n",
    "print('收缩压平均响应时间')\n",
    "print(data[~data['收缩压'].isnull()]['响应时间'].mean())\n",
    "\n",
    "print('舒张压平均响应时间')\n",
    "print(data[~data['舒张压'].isnull()]['响应时间'].mean())\n",
    "\n",
    "print('血糖平均响应时间')\n",
    "print(data[~data['血糖'].isnull()]['响应时间'].mean())\n",
    "\n",
    "print('体脂分析平均响应时间')\n",
    "print(data[~data['体脂分析'].isnull()]['响应时间'].mean())"
   ]
  },
  {
   "cell_type": "code",
   "execution_count": null,
   "id": "0267a827-23b8-4b91-8992-9bf7ef941857",
   "metadata": {},
   "outputs": [],
   "source": []
  }
 ],
 "metadata": {
  "kernelspec": {
   "display_name": "Python 3 (ipykernel)",
   "language": "python",
   "name": "python3"
  },
  "language_info": {
   "codemirror_mode": {
    "name": "ipython",
    "version": 3
   },
   "file_extension": ".py",
   "mimetype": "text/x-python",
   "name": "python",
   "nbconvert_exporter": "python",
   "pygments_lexer": "ipython3",
   "version": "3.12.8"
  }
 },
 "nbformat": 4,
 "nbformat_minor": 5
}
