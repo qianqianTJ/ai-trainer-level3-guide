{
 "cells": [
  {
   "cell_type": "code",
   "execution_count": 28,
   "id": "8898725e-04fa-4776-bf72-cc520b9aba2e",
   "metadata": {},
   "outputs": [
    {
     "name": "stdout",
     "output_type": "stream",
     "text": [
      "   用户ID                  时间戳 功能调用类型  响应时间\n",
      "0    47  2023-03-26 02:22:30   播放音乐  1.53\n",
      "1    92  2023-04-15 19:44:05    查天气  1.97\n",
      "2    33  2023-02-28 13:45:13   提醒事项  2.61\n",
      "3    33  2023-05-03 17:59:11   查询新闻  2.36\n",
      "4    48  2023-06-12 14:01:51   设置闹钟  1.69\n"
     ]
    }
   ],
   "source": [
    "import pandas as pd\n",
    "\n",
    "# 加载数据集\n",
    "data = pd.read_excel('智能音箱数据集.xlsx')\n",
    "\n",
    "print(data.head())"
   ]
  },
  {
   "cell_type": "code",
   "execution_count": 29,
   "id": "bf432869-a46d-4507-bb2d-fadbea47d824",
   "metadata": {},
   "outputs": [
    {
     "data": {
      "text/plain": [
       "功能调用类型\n",
       "调整音量    137\n",
       "查询新闻    133\n",
       "查天气     132\n",
       "查询知识    125\n",
       "提醒事项    123\n",
       "设置闹钟    120\n",
       "控制家居    119\n",
       "播放音乐    111\n",
       "Name: count, dtype: int64"
      ]
     },
     "execution_count": 29,
     "metadata": {},
     "output_type": "execute_result"
    }
   ],
   "source": [
    "# 功能使用频率排序\n",
    "data['功能调用类型'].value_counts().sort_values(ascending=False)"
   ]
  },
  {
   "cell_type": "code",
   "execution_count": 30,
   "id": "4599a87c-b3ee-422d-acfe-fe4ae56ebb97",
   "metadata": {},
   "outputs": [
    {
     "data": {
      "text/plain": [
       "功能调用类型\n",
       "控制家居    2.073866\n",
       "查天气     2.059242\n",
       "播放音乐    2.049910\n",
       "设置闹钟    2.035583\n",
       "查询知识    1.997440\n",
       "调整音量    1.980365\n",
       "提醒事项    1.887967\n",
       "查询新闻    1.869023\n",
       "Name: 响应时间, dtype: float64"
      ]
     },
     "execution_count": 30,
     "metadata": {},
     "output_type": "execute_result"
    }
   ],
   "source": [
    "# 功能响应时间平均值排序\n",
    "data.groupby('功能调用类型')['响应时间'].mean().sort_values(ascending=False)"
   ]
  },
  {
   "cell_type": "code",
   "execution_count": null,
   "id": "9dee2484-8b39-42cf-901f-e2070c28e597",
   "metadata": {},
   "outputs": [],
   "source": []
  }
 ],
 "metadata": {
  "kernelspec": {
   "display_name": "Python 3 (ipykernel)",
   "language": "python",
   "name": "python3"
  },
  "language_info": {
   "codemirror_mode": {
    "name": "ipython",
    "version": 3
   },
   "file_extension": ".py",
   "mimetype": "text/x-python",
   "name": "python",
   "nbconvert_exporter": "python",
   "pygments_lexer": "ipython3",
   "version": "3.12.8"
  }
 },
 "nbformat": 4,
 "nbformat_minor": 5
}
