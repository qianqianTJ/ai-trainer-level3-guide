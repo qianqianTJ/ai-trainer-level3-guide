{
 "cells": [
  {
   "cell_type": "code",
   "execution_count": 8,
   "id": "2f77e90f-b786-4ec7-9c2e-b4c354d6f174",
   "metadata": {},
   "outputs": [
    {
     "name": "stdout",
     "output_type": "stream",
     "text": [
      "       用户                   日期  步数\n",
      "0  User_1  2024-09-15 00:00:00   0\n",
      "1  User_1  2024-09-15 01:00:00   0\n",
      "2  User_1  2024-09-15 02:00:00   0\n",
      "3  User_1  2024-09-15 03:00:00   0\n",
      "4  User_1  2024-09-15 04:00:00   0\n",
      "       用户                 时间戳 功能调用类型    传输延迟时间\n",
      "0  User_1 2024-09-15 19:28:00   睡眠时长  0.392798\n",
      "1  User_1 2024-09-15 20:38:00     心率  1.155995\n",
      "2  User_1 2024-09-15 10:10:00     步数  0.340446\n",
      "3  User_1 2024-09-15 23:02:00     心率  1.056412\n",
      "4  User_1 2024-09-15 23:43:00     心率  1.212339\n"
     ]
    }
   ],
   "source": [
    "import pandas as pd\n",
    "\n",
    "# 数据加载\n",
    "step_count_data = pd.read_excel('智能健康手环数据集.xlsx', sheet_name='步数统计记录')\n",
    "print(step_count_data.head())\n",
    "function_check_data = pd.read_excel('智能健康手环数据集.xlsx', sheet_name='功能查看记录')\n",
    "print(function_check_data.head())"
   ]
  },
  {
   "cell_type": "code",
   "execution_count": 10,
   "id": "f69b5b42-a143-4aeb-b6d1-bb3d1994208a",
   "metadata": {},
   "outputs": [
    {
     "name": "stderr",
     "output_type": "stream",
     "text": [
      "C:\\Users\\ZhuanZ\\AppData\\Local\\Temp\\ipykernel_7804\\766932559.py:5: FutureWarning: The default of observed=False is deprecated and will be changed to True in a future version of pandas. Pass observed=False to retain current behavior or observed=True to adopt the future default and silence this warning.\n",
      "  step_count_data.groupby('时间段')['步数'].mean()\n"
     ]
    },
    {
     "data": {
      "text/plain": [
       "时间段\n",
       "凌晨       0.000000\n",
       "早上    5068.099048\n",
       "上午    1113.285238\n",
       "中午    1085.174286\n",
       "下午    2077.840000\n",
       "傍晚    5001.120000\n",
       "晚上    2078.127857\n",
       "Name: 步数, dtype: float64"
      ]
     },
     "execution_count": 10,
     "metadata": {},
     "output_type": "execute_result"
    }
   ],
   "source": [
    "# 用户活动模式\n",
    "step_count_data['小时'] = pd.to_datetime(step_count_data['日期']).dt.hour\n",
    "step_count_data['时间段'] = pd.cut(step_count_data['小时'],bins=[0,6,9,12,14,18,20,24],labels=['凌晨','早上','上午','中午','下午','傍晚','晚上'],right=False)\n",
    "step_count_data.groupby('时间段')['步数'].mean()"
   ]
  },
  {
   "cell_type": "code",
   "execution_count": 11,
   "id": "4ada9b7e-abad-43c7-946d-3b70812422c0",
   "metadata": {},
   "outputs": [
    {
     "data": {
      "text/plain": [
       "功能调用类型\n",
       "步数      1301\n",
       "心率      1269\n",
       "睡眠时长    1266\n",
       "Name: count, dtype: int64"
      ]
     },
     "execution_count": 11,
     "metadata": {},
     "output_type": "execute_result"
    }
   ],
   "source": [
    "# 健康指标关注度\n",
    "function_check_data['功能调用类型'].value_counts()"
   ]
  },
  {
   "cell_type": "code",
   "execution_count": 13,
   "id": "0159711f-c689-4560-8bfb-469f4324f9e2",
   "metadata": {},
   "outputs": [
    {
     "name": "stdout",
     "output_type": "stream",
     "text": [
      "0.6979558447042031\n"
     ]
    }
   ],
   "source": [
    "# 平均延迟\n",
    "print(function_check_data['传输延迟时间'].mean())"
   ]
  },
  {
   "cell_type": "code",
   "execution_count": null,
   "id": "c820be7b-7c73-4114-81db-418a69175b00",
   "metadata": {},
   "outputs": [],
   "source": []
  }
 ],
 "metadata": {
  "kernelspec": {
   "display_name": "Python 3 (ipykernel)",
   "language": "python",
   "name": "python3"
  },
  "language_info": {
   "codemirror_mode": {
    "name": "ipython",
    "version": 3
   },
   "file_extension": ".py",
   "mimetype": "text/x-python",
   "name": "python",
   "nbconvert_exporter": "python",
   "pygments_lexer": "ipython3",
   "version": "3.12.8"
  }
 },
 "nbformat": 4,
 "nbformat_minor": 5
}
