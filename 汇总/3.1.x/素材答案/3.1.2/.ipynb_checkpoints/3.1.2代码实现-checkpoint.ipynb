{
 "cells": [
  {
   "cell_type": "code",
   "execution_count": 18,
   "id": "2a8c322a-6534-4971-a2ee-5ce12c507a0f",
   "metadata": {},
   "outputs": [
    {
     "name": "stdout",
     "output_type": "stream",
     "text": [
      "                 数据记录的时间戳    用户标识符  光线亮度值（0-100）  色温值（1000K-6500K）  \\\n",
      "0 2024-07-19 23:57:05.455  User_52            33              1165   \n",
      "1 2024-07-19 23:56:05.455  User_93             7              2567   \n",
      "2 2024-07-19 23:55:05.455  User_15            39              6420   \n",
      "3 2024-07-19 23:54:05.455  User_72            82              1728   \n",
      "4 2024-07-19 23:53:05.455  User_61            41              3043   \n",
      "\n",
      "          使用的场景   响应时间（秒）  \n",
      "0    Sleep Mode  0.609464  \n",
      "1    Sleep Mode  0.397125  \n",
      "2    Relax Mode  1.720870  \n",
      "3  Reading Mode  0.188351  \n",
      "4     Work Mode  1.277429  \n"
     ]
    }
   ],
   "source": [
    "import pandas as pd\n",
    "\n",
    "data = pd.read_excel('智能照明系统数据集.xlsx')\n",
    "\n",
    "print(data.head())"
   ]
  },
  {
   "cell_type": "code",
   "execution_count": 19,
   "id": "7417cfdb-6769-4418-952a-3d933c5735a8",
   "metadata": {},
   "outputs": [
    {
     "name": "stderr",
     "output_type": "stream",
     "text": [
      "C:\\Users\\ZhuanZ\\AppData\\Local\\Temp\\ipykernel_12292\\1582059055.py:6: FutureWarning: The default of observed=False is deprecated and will be changed to True in a future version of pandas. Pass observed=False to retain current behavior or observed=True to adopt the future default and silence this warning.\n",
      "  data.groupby('时间段')[['光线亮度值（0-100）','色温值（1000K-6500K）']].mean()\n"
     ]
    },
    {
     "data": {
      "text/html": [
       "<div>\n",
       "<style scoped>\n",
       "    .dataframe tbody tr th:only-of-type {\n",
       "        vertical-align: middle;\n",
       "    }\n",
       "\n",
       "    .dataframe tbody tr th {\n",
       "        vertical-align: top;\n",
       "    }\n",
       "\n",
       "    .dataframe thead th {\n",
       "        text-align: right;\n",
       "    }\n",
       "</style>\n",
       "<table border=\"1\" class=\"dataframe\">\n",
       "  <thead>\n",
       "    <tr style=\"text-align: right;\">\n",
       "      <th></th>\n",
       "      <th>光线亮度值（0-100）</th>\n",
       "      <th>色温值（1000K-6500K）</th>\n",
       "    </tr>\n",
       "    <tr>\n",
       "      <th>时间段</th>\n",
       "      <th></th>\n",
       "      <th></th>\n",
       "    </tr>\n",
       "  </thead>\n",
       "  <tbody>\n",
       "    <tr>\n",
       "      <th>凌晨</th>\n",
       "      <td>NaN</td>\n",
       "      <td>NaN</td>\n",
       "    </tr>\n",
       "    <tr>\n",
       "      <th>上午</th>\n",
       "      <td>51.744681</td>\n",
       "      <td>3689.517730</td>\n",
       "    </tr>\n",
       "    <tr>\n",
       "      <th>下午</th>\n",
       "      <td>49.930556</td>\n",
       "      <td>3732.402778</td>\n",
       "    </tr>\n",
       "    <tr>\n",
       "      <th>晚上</th>\n",
       "      <td>48.055866</td>\n",
       "      <td>3661.351955</td>\n",
       "    </tr>\n",
       "  </tbody>\n",
       "</table>\n",
       "</div>"
      ],
      "text/plain": [
       "     光线亮度值（0-100）  色温值（1000K-6500K）\n",
       "时间段                                \n",
       "凌晨            NaN               NaN\n",
       "上午      51.744681       3689.517730\n",
       "下午      49.930556       3732.402778\n",
       "晚上      48.055866       3661.351955"
      ]
     },
     "execution_count": 19,
     "metadata": {},
     "output_type": "execute_result"
    }
   ],
   "source": [
    "# 用户使用习惯\n",
    "data['小时'] = pd.to_datetime(data['数据记录的时间戳']).dt.hour\n",
    "\n",
    "data['时间段'] = pd.cut(data['小时'],bins=[0,6,12,18,24],labels=['凌晨','上午','下午','晚上'],right=False)\n",
    "\n",
    "data.groupby('时间段')[['光线亮度值（0-100）','色温值（1000K-6500K）']].mean()"
   ]
  },
  {
   "cell_type": "code",
   "execution_count": 20,
   "id": "ca86cb48-9606-46f0-9ed9-e542be5ead20",
   "metadata": {},
   "outputs": [
    {
     "data": {
      "text/plain": [
       "使用的场景\n",
       "Relax Mode      273\n",
       "Reading Mode    264\n",
       "Work Mode       237\n",
       "Sleep Mode      226\n",
       "Name: count, dtype: int64"
      ]
     },
     "execution_count": 20,
     "metadata": {},
     "output_type": "execute_result"
    }
   ],
   "source": [
    "# 功能使用频率\n",
    "data['使用的场景'].value_counts().sort_values(ascending=False)"
   ]
  },
  {
   "cell_type": "code",
   "execution_count": 21,
   "id": "f56805a7-7afc-4519-8303-46e619f7b037",
   "metadata": {},
   "outputs": [
    {
     "name": "stdout",
     "output_type": "stream",
     "text": [
      "1.0635604989132799\n"
     ]
    }
   ],
   "source": [
    "# 平均响应时间\n",
    "print(data['响应时间（秒）'].mean())"
   ]
  },
  {
   "cell_type": "code",
   "execution_count": null,
   "id": "1e943948-7e52-48d3-adbc-24db57d3780e",
   "metadata": {},
   "outputs": [],
   "source": []
  }
 ],
 "metadata": {
  "kernelspec": {
   "display_name": "Python 3 (ipykernel)",
   "language": "python",
   "name": "python3"
  },
  "language_info": {
   "codemirror_mode": {
    "name": "ipython",
    "version": 3
   },
   "file_extension": ".py",
   "mimetype": "text/x-python",
   "name": "python",
   "nbconvert_exporter": "python",
   "pygments_lexer": "ipython3",
   "version": "3.12.8"
  }
 },
 "nbformat": 4,
 "nbformat_minor": 5
}
