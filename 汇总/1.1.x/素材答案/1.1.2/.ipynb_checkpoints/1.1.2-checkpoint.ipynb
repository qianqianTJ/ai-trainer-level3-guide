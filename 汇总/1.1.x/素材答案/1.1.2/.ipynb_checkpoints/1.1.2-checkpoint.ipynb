{
 "cells": [
  {
   "cell_type": "code",
   "execution_count": 2,
   "id": "dc6df6cd-ed8a-4658-bc6c-0e6d3954c384",
   "metadata": {},
   "outputs": [
    {
     "name": "stdout",
     "output_type": "stream",
     "text": [
      "      SensorID            Timestamp   SensorType      Value Location\n",
      "0            1  2024-01-01 00:00:00        Light  79.632171   Field3\n",
      "1            2  2024-01-01 01:00:00  Temperature   0.645026   Field1\n",
      "2            3  2024-01-01 02:00:00       SoilPH  94.849652   Field1\n",
      "3            4  2024-01-01 03:00:00       SoilPH  76.637606   Field1\n",
      "4            5  2024-01-01 04:00:00       SoilPH  11.798296   Field4\n",
      "...        ...                  ...          ...        ...      ...\n",
      "9995      9996  2025-02-20 11:00:00  Temperature  58.941457   Field2\n",
      "9996      9997  2025-02-20 12:00:00        Light  42.337861   Field1\n",
      "9997      9998  2025-02-20 13:00:00        Light  10.129603   Field2\n",
      "9998      9999  2025-02-20 14:00:00       SoilPH  52.658421   Field4\n",
      "9999     10000  2025-02-20 15:00:00     Humidity   5.657101   Field4\n",
      "\n",
      "[10000 rows x 5 columns]\n"
     ]
    }
   ],
   "source": [
    "import pandas as pd\n",
    "import numpy as np\n",
    "import matplotlib.pyplot as plt\n",
    "# 读取数据集 2分\n",
    "data = pd.read_csv('sensor_data.csv')\n",
    "print(data)"
   ]
  },
  {
   "cell_type": "code",
   "execution_count": 3,
   "id": "827966a0-74d4-406a-b6c0-02bf756f0140",
   "metadata": {},
   "outputs": [
    {
     "name": "stdout",
     "output_type": "stream",
     "text": [
      "传感器数据数量和平均值:\n",
      "              count       mean\n",
      "SensorType                    \n",
      "Humidity       2065  48.978302\n",
      "Light          1950  49.439011\n",
      "SoilMoisture   1951  49.325119\n",
      "SoilPH         2029  49.865460\n",
      "Temperature    2005  49.847153\n"
     ]
    }
   ],
   "source": [
    "# 1. 传感器数据统计\n",
    "# 对传感器类型进行分组，并计算每个组的数据数量和平均值 3分\n",
    "sensor_stats = data.groupby(data['SensorType'])['Value'].agg(['count','mean'])\n",
    "# 输出结果\n",
    "print(\"传感器数据数量和平均值:\")\n",
    "print(sensor_stats)"
   ]
  },
  {
   "cell_type": "code",
   "execution_count": 5,
   "id": "b5cb3daa-45a0-4dae-ab84-07e9129158c7",
   "metadata": {},
   "outputs": [
    {
     "name": "stdout",
     "output_type": "stream",
     "text": [
      "每个位置的温度和湿度数据平均值:\n",
      "SensorType   Humidity  Temperature\n",
      "Location                          \n",
      "Field1      49.036008    50.482617\n",
      "Field2      47.379411    49.874282\n",
      "Field3      49.583266    48.761804\n",
      "Field4      49.955498    50.241608\n"
     ]
    }
   ],
   "source": [
    "# 2. 按位置统计温度和湿度数据\n",
    "# 筛选出温度和湿度数据，然后按位置和传感器类型分组，计算每个组的平均值 2分\n",
    "location_stats = data[data['SensorType'].isin(['Temperature','Humidity'])].groupby(['Location','SensorType'])['Value'].mean().unstack()\n",
    "# 输出结果\n",
    "print(\"每个位置的温度和湿度数据平均值:\")\n",
    "print(location_stats)"
   ]
  },
  {
   "cell_type": "code",
   "execution_count": 7,
   "id": "68064e8f-ac9a-4f17-926d-d18489e704c1",
   "metadata": {},
   "outputs": [
    {
     "name": "stdout",
     "output_type": "stream",
     "text": [
      "异常值数量: is_abnormal\n",
      "False    8989\n",
      "True     1011\n",
      "Name: count, dtype: int64\n",
      "数据清洗完成，已保存为 'cleaned_sensor_data.csv'\n"
     ]
    },
    {
     "name": "stderr",
     "output_type": "stream",
     "text": [
      "C:\\Users\\ZhuanZ\\AppData\\Local\\Temp\\ipykernel_16284\\1663492746.py:12: FutureWarning: A value is trying to be set on a copy of a DataFrame or Series through chained assignment using an inplace method.\n",
      "The behavior will change in pandas 3.0. This inplace method will never work because the intermediate object on which we are setting values always behaves as a copy.\n",
      "\n",
      "For example, when doing 'df[col].method(value, inplace=True)', try using 'df.method({col: value}, inplace=True)' or df[col] = df[col].method(value) instead, to perform the operation inplace on the original object.\n",
      "\n",
      "\n",
      "  data['Value'].fillna(method='ffill', inplace=True)\n",
      "C:\\Users\\ZhuanZ\\AppData\\Local\\Temp\\ipykernel_16284\\1663492746.py:12: FutureWarning: Series.fillna with 'method' is deprecated and will raise in a future version. Use obj.ffill() or obj.bfill() instead.\n",
      "  data['Value'].fillna(method='ffill', inplace=True)\n",
      "C:\\Users\\ZhuanZ\\AppData\\Local\\Temp\\ipykernel_16284\\1663492746.py:13: FutureWarning: A value is trying to be set on a copy of a DataFrame or Series through chained assignment using an inplace method.\n",
      "The behavior will change in pandas 3.0. This inplace method will never work because the intermediate object on which we are setting values always behaves as a copy.\n",
      "\n",
      "For example, when doing 'df[col].method(value, inplace=True)', try using 'df.method({col: value}, inplace=True)' or df[col] = df[col].method(value) instead, to perform the operation inplace on the original object.\n",
      "\n",
      "\n",
      "  data['Value'].fillna(method='bfill', inplace=True)\n",
      "C:\\Users\\ZhuanZ\\AppData\\Local\\Temp\\ipykernel_16284\\1663492746.py:13: FutureWarning: Series.fillna with 'method' is deprecated and will raise in a future version. Use obj.ffill() or obj.bfill() instead.\n",
      "  data['Value'].fillna(method='bfill', inplace=True)\n"
     ]
    }
   ],
   "source": [
    "# 3. 数据清洗和异常值处理\n",
    "# 标记异常值 3分\n",
    "data['is_abnormal'] = np.where(\n",
    "    ((data['SensorType']=='Temperature') & ((data['Value'] < -10) | (data['Value'] > 50))) |\n",
    "    ((data['SensorType']=='Humidity') & ((data['Value'] < 0) | (data['Value'] > 100))),\n",
    "    True, False\n",
    ")\n",
    "# 输出异常值数量 2分\n",
    "print(\"异常值数量:\", data['is_abnormal'].value_counts())\n",
    "# 填补缺失值\n",
    "# 使用前向填充和后向填充的方法填补缺失值 4分\n",
    "data['Value'].fillna(method='ffill', inplace=True)\n",
    "data['Value'].fillna(method='bfill', inplace=True)\n",
    "# 保存清洗后的数据\n",
    "# 删除用于标记异常值的列，并将清洗后的数据保存到新的CSV文件中 4分\n",
    "cleaned_data = data.drop(columns=['is_abnormal'])\n",
    "cleaned_data.to_csv('cleaned_sensor_data.csv', index=False)\n",
    "print(\"数据清洗完成，已保存为 'cleaned_sensor_data.csv'\")"
   ]
  },
  {
   "cell_type": "code",
   "execution_count": null,
   "id": "540f953a-f843-4c57-afb3-c7c9925e873c",
   "metadata": {},
   "outputs": [],
   "source": []
  }
 ],
 "metadata": {
  "kernelspec": {
   "display_name": "Python 3 (ipykernel)",
   "language": "python",
   "name": "python3"
  },
  "language_info": {
   "codemirror_mode": {
    "name": "ipython",
    "version": 3
   },
   "file_extension": ".py",
   "mimetype": "text/x-python",
   "name": "python",
   "nbconvert_exporter": "python",
   "pygments_lexer": "ipython3",
   "version": "3.12.8"
  }
 },
 "nbformat": 4,
 "nbformat_minor": 5
}
